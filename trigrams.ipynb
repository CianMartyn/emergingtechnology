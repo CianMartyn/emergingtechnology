{
 "cells": [
  {
   "cell_type": "markdown",
   "metadata": {},
   "source": [
    "Step 1: Import Required Libraries.\n",
    "\n",
    "In this step, we import collections for creating a defaultdict that will store trigram counts."
   ]
  },
  {
   "cell_type": "code",
   "execution_count": null,
   "metadata": {},
   "outputs": [],
   "source": [
    "# Importing the collections library to use defaultdict for counting trigrams\n",
    "import collections\n",
    "import random"
   ]
  },
  {
   "cell_type": "markdown",
   "metadata": {},
   "source": [
    "Step 2: Define the List of Book Files.\n",
    "\n",
    "We list the file paths of the books we want to analyze. This will allow us to loop through them easily."
   ]
  },
  {
   "cell_type": "code",
   "execution_count": null,
   "metadata": {},
   "outputs": [],
   "source": [
    "# List of book file paths\n",
    "book_files = [\n",
    "    'books/moby_dick.txt',\n",
    "    'books/frankenstein.txt',\n",
    "    'books/pride_and_prejudice.txt',\n",
    "    'books/romeo_and_juliet.txt',\n",
    "    'books/the_scarlet_letter.txt'\n",
    "]"
   ]
  },
  {
   "cell_type": "markdown",
   "metadata": {},
   "source": [
    "Step 3: Set Up the Trigram Counter.\n",
    "\n",
    "We create a defaultdict that will store trigram counts across all books. Each trigram will be a key, and its count will be the value. Using defaultdict(int) allows each new trigram to start with a count of zero automatically."
   ]
  },
  {
   "cell_type": "code",
   "execution_count": null,
   "metadata": {},
   "outputs": [],
   "source": [
    "# Define a defaultdict to store trigram counts across all books\n",
    "trigram_counts = collections.defaultdict(int)"
   ]
  },
  {
   "cell_type": "markdown",
   "metadata": {},
   "source": [
    "Step 4: Define Characters to Keep.\n",
    "\n",
    "We only want lowercase letters, spaces, and periods in the text to ensure consistency. This step specifies which characters we’ll keep when cleaning the text."
   ]
  },
  {
   "cell_type": "code",
   "execution_count": null,
   "metadata": {},
   "outputs": [],
   "source": [
    "# Define characters to keep (lowercase letters, spaces, and periods)\n",
    "keep = 'abcdefghijklmnopqrstuvwxyz .'"
   ]
  },
  {
   "cell_type": "markdown",
   "metadata": {},
   "source": [
    "Step 5: Process Each Book File.\n",
    "\n",
    "In this step, we loop through each book file, read the content, convert it to lowercase, and clean the text by removing unwanted characters. This cell prepares the text for trigram generation."
   ]
  },
  {
   "cell_type": "code",
   "execution_count": null,
   "metadata": {},
   "outputs": [],
   "source": [
    "# Loop through each book file to read, clean, and process the text\n",
    "for book_file in book_files:\n",
    "    with open(book_file, 'r') as file:\n",
    "        # Read the entire file into a string and convert to lowercase\n",
    "        text = file.read().lower()\n",
    "\n",
    "        # Remove unwanted characters\n",
    "        cleaned = ''.join(c for c in text if c in keep)"
   ]
  },
  {
   "cell_type": "markdown",
   "metadata": {},
   "source": [
    "Step 6: Generate and Count Trigrams.\n",
    "\n",
    "After cleaning the text, we extract every sequence of three characters (trigrams) and count each occurrence. This cell updates the trigram_counts dictionary for each trigram found in the current book."
   ]
  },
  {
   "cell_type": "code",
   "execution_count": null,
   "metadata": {},
   "outputs": [],
   "source": [
    "# Generate and count trigrams for this book\n",
    "for i in range(len(cleaned) - 2):\n",
    "            # Extract trigram of three characters\n",
    "            trigram = cleaned[i:i+3]\n",
    "            # Increment count for this trigram in the defaultdict\n",
    "            trigram_counts[trigram] += 1"
   ]
  },
  {
   "cell_type": "markdown",
   "metadata": {},
   "source": [
    "Step 7: Sort Trigrams by Frequency in Descending Order.\n",
    "\n",
    "After processing all books, we sort the trigrams by their count in descending order. Sorting helps to easily identify the most frequent trigrams."
   ]
  },
  {
   "cell_type": "code",
   "execution_count": null,
   "metadata": {},
   "outputs": [],
   "source": [
    "# Sort trigrams by count in descending order\n",
    "sorted_trigrams = sorted(trigram_counts.items(), key=lambda x: x[1], reverse=True)\n"
   ]
  },
  {
   "cell_type": "markdown",
   "metadata": {},
   "source": [
    "Step 8: Display the Sorted Trigram Counts.\n",
    "\n",
    "Finally, we print the sorted trigram counts in descending order, with the most frequent trigrams displayed first."
   ]
  },
  {
   "cell_type": "code",
   "execution_count": null,
   "metadata": {},
   "outputs": [],
   "source": [
    "# Print the sorted trigram counts\n",
    "for trigram, count in sorted_trigrams:\n",
    "    print(f\"'{trigram}': {count}\")\n"
   ]
  },
  {
   "cell_type": "markdown",
   "metadata": {},
   "source": [
    "Step 9\n",
    "\n",
    "Parameters:\n",
    "\n",
    "trigram_counts: Dictionary containing the trigram frequency model.\n",
    "start: Starting string for generating the text (default is 'th').\n",
    "length: The desired length of the generated text (10,000 characters in this case).\n",
    "\n",
    "Prefix Logic:\n",
    "\n",
    "Uses the last two characters of the generated text as a prefix to find matching trigrams.\n",
    "\n",
    "Candidate Selection:\n",
    "\n",
    "Filters trigram_counts to find trigrams starting with the current prefix.\n",
    "Extracts possible next characters (next_chars) and their counts (weights).\n",
    "\n",
    "Weighted Random Selection:\n",
    "\n",
    "Chooses the next character based on the weighted probabilities of weights.\n",
    "\n",
    "Stopping Condition:\n",
    "\n",
    "If no candidates are found for the prefix, the generation stops."
   ]
  },
  {
   "cell_type": "code",
   "execution_count": null,
   "metadata": {},
   "outputs": [],
   "source": [
    "# Function to generate text using the trigram model\n",
    "def generate_text(trigram_counts, start='th', length=10000):\n",
    "    \"\"\"\n",
    "    Generates a string of the specified length based on the trigram model.\n",
    "    \n",
    "    Parameters:\n",
    "        trigram_counts (dict): Dictionary of trigram frequencies.\n",
    "        start (str): Initial two-character string to start the generation.\n",
    "        length (int): Desired length of the generated text.\n",
    "        \n",
    "    Returns:\n",
    "        str: Generated text of the specified length.\n",
    "    \"\"\"\n",
    "    # Start the text with the initial seed\n",
    "    generated_text = start\n",
    "    \n",
    "    # Generate characters until reaching the desired length\n",
    "    while len(generated_text) < length:\n",
    "        # Get the last two characters as the prefix\n",
    "        prefix = generated_text[-2:]\n",
    "        \n",
    "        # Find all trigrams that start with the current prefix\n",
    "        candidates = {trigram[2]: count for trigram, count in trigram_counts.items() if trigram.startswith(prefix)}\n",
    "        \n",
    "        # Debug print: Check if candidates are found\n",
    "        print(f\"Current prefix: '{prefix}', Candidates: {candidates}\")\n",
    "        \n",
    "        # If no candidates are found, stop generating\n",
    "        if not candidates:\n",
    "            print(f\"No candidates found for prefix '{prefix}'. Stopping generation.\")\n",
    "            break\n",
    "        \n",
    "        # Extract possible next characters and their corresponding weights\n",
    "        next_chars = list(candidates.keys())\n",
    "        weights = list(candidates.values())\n",
    "        \n",
    "        # Randomly choose the next character based on weights\n",
    "        next_char = random.choices(next_chars, weights=weights)[0]\n",
    "        \n",
    "        # Append the chosen character to the generated text\n",
    "        generated_text += next_char\n",
    "    \n",
    "    return generated_text\n",
    "\n"
   ]
  },
  {
   "cell_type": "markdown",
   "metadata": {},
   "source": [
    "Step 10\n",
    "\n",
    "Text Generation:\n",
    "Calls the generate_text function to generate a string of 10,000 characters starting with 'th'.\n",
    "Preview:\n",
    "Prints the first 100 characters of the generated text to quickly verify the result."
   ]
  },
  {
   "cell_type": "code",
   "execution_count": null,
   "metadata": {},
   "outputs": [],
   "source": [
    "# Generate a string of 10,000 characters using the trigram model\n",
    "generated_text = generate_text(trigram_counts, start='th', length=10000)\n",
    "\n",
    "# Print the first 100 characters to verify the result\n",
    "print(\"\\nGenerated text preview:\")\n",
    "print(generated_text[:100])  # Only printing the first 100 characters to check\n"
   ]
  }
 ],
 "metadata": {
  "kernelspec": {
   "display_name": "Python 3",
   "language": "python",
   "name": "python3"
  },
  "language_info": {
   "codemirror_mode": {
    "name": "ipython",
    "version": 3
   },
   "file_extension": ".py",
   "mimetype": "text/x-python",
   "name": "python",
   "nbconvert_exporter": "python",
   "pygments_lexer": "ipython3",
   "version": "3.12.1"
  }
 },
 "nbformat": 4,
 "nbformat_minor": 2
}
