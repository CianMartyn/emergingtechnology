{
 "cells": [
  {
   "cell_type": "code",
   "execution_count": 3,
   "metadata": {},
   "outputs": [
    {
     "name": "stdout",
     "output_type": "stream",
     "text": [
      "'t': 88399\n",
      "'i': 65594\n",
      "'l': 42887\n",
      "'e': 117525\n",
      "' ': 194906\n",
      "'m': 23330\n",
      "'o': 69462\n",
      "'b': 16936\n",
      "'y': 16904\n",
      "'d': 38321\n",
      "'c': 22720\n",
      "'k': 8089\n",
      "'r': 52424\n",
      "'h': 63244\n",
      "'w': 22268\n",
      "'a': 78238\n",
      "'u': 26702\n",
      "'n': 65763\n",
      "'v': 8615\n",
      "'s': 64397\n",
      "'j': 1089\n",
      "'p': 17443\n",
      "'g': 20878\n",
      "'z': 635\n",
      "'f': 20878\n",
      "'.': 7972\n",
      "'x': 1036\n",
      "'q': 1570\n"
     ]
    }
   ],
   "source": [
    "# Selecting random items from lists.\n",
    "import random\n",
    "\n",
    "# Efficient data structures.\n",
    "import collections\n",
    "\n",
    "with open('books/moby_dick.txt', 'r') as file:\n",
    "  # Read the whole file into a string.\n",
    "  english = file.read()\n",
    "\n",
    "# Change everything to lower case.\n",
    "english = english.lower()\n",
    "# The characters to keep.\n",
    "keep = 'abcdefghijklmnopqrstuvwxyz .'\n",
    "# Remove unwanted characters.\n",
    "cleaned = ''.join(c for c in english if c in keep)\n",
    "# Count the frequency of each character.\n",
    "counts = collections.Counter(cleaned)\n",
    "# Print the results\n",
    "for char, count in counts.items():\n",
    "  print(f\"'{char}': {count}\")"
   ]
  }
 ],
 "metadata": {
  "kernelspec": {
   "display_name": "Python 3",
   "language": "python",
   "name": "python3"
  },
  "language_info": {
   "codemirror_mode": {
    "name": "ipython",
    "version": 3
   },
   "file_extension": ".py",
   "mimetype": "text/x-python",
   "name": "python",
   "nbconvert_exporter": "python",
   "pygments_lexer": "ipython3",
   "version": "3.12.1"
  }
 },
 "nbformat": 4,
 "nbformat_minor": 2
}
